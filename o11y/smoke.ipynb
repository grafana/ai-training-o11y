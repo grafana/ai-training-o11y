{
 "cells": [
  {
   "cell_type": "code",
   "execution_count": 1,
   "id": "07827d16-8a84-4280-ab52-cece5b6dbaf1",
   "metadata": {},
   "outputs": [
    {
     "name": "stdout",
     "output_type": "stream",
     "text": [
      "Processing ./dist/o11y-0.1.0-py3-none-manylinux2014_x86_64.whl\n",
      "Collecting requests>=2.31.0 (from o11y==0.1.0)\n",
      "  Using cached requests-2.32.3-py3-none-any.whl.metadata (4.6 kB)\n",
      "Collecting setuptools>=67.8.0 (from o11y==0.1.0)\n",
      "  Using cached setuptools-72.1.0-py3-none-any.whl.metadata (6.6 kB)\n",
      "Collecting charset-normalizer<4,>=2 (from requests>=2.31.0->o11y==0.1.0)\n",
      "  Using cached charset_normalizer-3.3.2-cp311-cp311-manylinux_2_17_x86_64.manylinux2014_x86_64.whl.metadata (33 kB)\n",
      "Collecting idna<4,>=2.5 (from requests>=2.31.0->o11y==0.1.0)\n",
      "  Using cached idna-3.7-py3-none-any.whl.metadata (9.9 kB)\n",
      "Collecting urllib3<3,>=1.21.1 (from requests>=2.31.0->o11y==0.1.0)\n",
      "  Using cached urllib3-2.2.2-py3-none-any.whl.metadata (6.4 kB)\n",
      "Collecting certifi>=2017.4.17 (from requests>=2.31.0->o11y==0.1.0)\n",
      "  Using cached certifi-2024.7.4-py3-none-any.whl.metadata (2.2 kB)\n",
      "Using cached requests-2.32.3-py3-none-any.whl (64 kB)\n",
      "Using cached setuptools-72.1.0-py3-none-any.whl (2.3 MB)\n",
      "Using cached certifi-2024.7.4-py3-none-any.whl (162 kB)\n",
      "Using cached charset_normalizer-3.3.2-cp311-cp311-manylinux_2_17_x86_64.manylinux2014_x86_64.whl (140 kB)\n",
      "Using cached idna-3.7-py3-none-any.whl (66 kB)\n",
      "Using cached urllib3-2.2.2-py3-none-any.whl (121 kB)\n",
      "Installing collected packages: urllib3, setuptools, idna, charset-normalizer, certifi, requests, o11y\n",
      "  Attempting uninstall: urllib3\n",
      "    Found existing installation: urllib3 2.2.2\n",
      "    Uninstalling urllib3-2.2.2:\n",
      "      Successfully uninstalled urllib3-2.2.2\n",
      "  Attempting uninstall: setuptools\n",
      "    Found existing installation: setuptools 70.1.0\n",
      "    Uninstalling setuptools-70.1.0:\n",
      "      Successfully uninstalled setuptools-70.1.0\n",
      "  Attempting uninstall: idna\n",
      "    Found existing installation: idna 3.7\n",
      "    Uninstalling idna-3.7:\n",
      "      Successfully uninstalled idna-3.7\n",
      "  Attempting uninstall: charset-normalizer\n",
      "    Found existing installation: charset-normalizer 3.3.2\n",
      "    Uninstalling charset-normalizer-3.3.2:\n",
      "      Successfully uninstalled charset-normalizer-3.3.2\n",
      "  Attempting uninstall: certifi\n",
      "    Found existing installation: certifi 2024.6.2\n",
      "    Uninstalling certifi-2024.6.2:\n",
      "      Successfully uninstalled certifi-2024.6.2\n",
      "  Attempting uninstall: requests\n",
      "    Found existing installation: requests 2.32.3\n",
      "    Uninstalling requests-2.32.3:\n",
      "      Successfully uninstalled requests-2.32.3\n",
      "Successfully installed certifi-2024.7.4 charset-normalizer-3.3.2 idna-3.7 o11y-0.1.0 requests-2.32.3 setuptools-72.1.0 urllib3-2.2.2\n"
     ]
    }
   ],
   "source": [
    "# Funny installation method for installing into this notebook in a docker container\n",
    "# In real use this should be \"pip install o11y\"\n",
    "import platform\n",
    "\n",
    "# Detect the architecture\n",
    "arch = platform.machine()\n",
    "\n",
    "# Determine the appropriate wheel file based on the architecture\n",
    "if arch == 'x86_64':\n",
    "    wheel_file = './dist/*manylinux2014_x86_64.whl'\n",
    "elif arch == 'aarch64' or arch == 'arm64':\n",
    "    wheel_file = './dist/*manylinux2014_aarch64.whl'\n",
    "else:\n",
    "    raise ValueError(f\"Unsupported architecture: {arch}\")\n",
    "\n",
    "\n",
    "!pip install {wheel_file} --force-reinstall"
   ]
  },
  {
   "cell_type": "code",
   "execution_count": 2,
   "id": "b3a03c39-891a-4524-a258-36f1a7104dcf",
   "metadata": {},
   "outputs": [
    {
     "name": "stderr",
     "output_type": "stream",
     "text": [
      "2024-07-30 16:51:15,351 - o11y._internal.client - INFO - Setting credentials with login string: 83bcaff6228b39bbe431af5e19fb4368e2a03dd3:1337@http://ai-training-api:8000\n",
      "2024-07-30 16:51:15,352 - o11y._internal.client - INFO - Parsed login string - Token: 83bca..., User ID: 1337, URI: http://ai-training-api:8000\n",
      "2024-07-30 16:51:15,352 - o11y._internal.client - INFO - Credentials set - URL: http://ai-training-api:8000, User ID: 1337, Token: 83bca...\n"
     ]
    }
   ],
   "source": [
    "import o11y"
   ]
  },
  {
   "cell_type": "code",
   "execution_count": 3,
   "id": "fc49064e-9974-4d7f-9ef1-c08d9fb06087",
   "metadata": {},
   "outputs": [
    {
     "name": "stdout",
     "output_type": "stream",
     "text": [
      "83bcaff6228b39bbe431af5e19fb4368e2a03dd3:1337@http://ai-training-api:8000\n"
     ]
    }
   ],
   "source": [
    "import os\n",
    "import random \n",
    "# Verify we have credentials set in environment\n",
    "# In principle it should be possible to do \"o11y login\" to set this from the command line\n",
    "print(os.environ['GF_AI_TRAINING_CREDS'])"
   ]
  },
  {
   "cell_type": "code",
   "execution_count": 4,
   "id": "e6a85341-29d2-4e19-b7e9-429c5c7f6d95",
   "metadata": {
    "scrolled": true
   },
   "outputs": [],
   "source": [
    "def run_with_model_metrics(*model_metrics):\n",
    "    if 'train' not in model_metrics:\n",
    "        model_metrics = ('train',) + model_metrics\n",
    "    \n",
    "    epochs = 100\n",
    "    lr = 0.01\n",
    "    \n",
    "    run = o11y.init(\n",
    "        project=\"my-awesome-project\",\n",
    "        metadata={\n",
    "            \"config\": {\n",
    "                \"learning_rate\": lr,\n",
    "                \"epochs\": epochs,\n",
    "                \"feed_forward\": {\n",
    "                    \"activation\": \"swiglu\",\n",
    "                    \"d_model\": 1024,\n",
    "                }\n",
    "            },\n",
    "            \"git_commit\": \"some_hash_goes_here\",\n",
    "        },\n",
    "    )\n",
    "    \n",
    "    offset = random.random() / 5\n",
    "    \n",
    "    for epoch in range(2, epochs):\n",
    "        train_acc = 1 - 2**-epoch - random.random() / epoch - offset\n",
    "        train_loss = 2**-epoch + random.random() / epoch + offset\n",
    "        o11y.log({\"train/accuracy\": train_acc, \"train/loss\": train_loss})\n",
    "        \n",
    "        for metric in model_metrics:\n",
    "            if metric != 'train':\n",
    "                metric_acc = train_acc - random.random()/100\n",
    "                metric_loss = train_loss - random.random()/100\n",
    "                o11y.log({f\"{metric}/accuracy\": metric_acc, f\"{metric}/loss\": metric_loss})\n",
    "\n",
    "    print(f\"Finished run with metrics {model_metrics}\")"
   ]
  },
  {
   "cell_type": "code",
   "execution_count": 5,
   "id": "2a41c1dd-e3d2-4f0e-95cb-d57a3832d6e0",
   "metadata": {},
   "outputs": [
    {
     "name": "stderr",
     "output_type": "stream",
     "text": [
      "2024-07-30 16:51:15,368 - o11y._internal.client - INFO - Registering process with data: {'user_metadata': {'config': {'learning_rate': 0.01, 'epochs': 100, 'feed_forward': {'activation': 'swiglu', 'd_model': 1024}}, 'git_commit': 'some_hash_goes_here'}, 'project': 'my-awesome-project'}\n",
      "2024-07-30 16:51:15,368 - o11y._internal.client - INFO - Request headers: Authorization: Bearer 1337..:83bca...\n",
      "2024-07-30 16:51:15,369 - o11y._internal.client - INFO - Sending request to URL: http://ai-training-api:8000/api/v1/process/new\n",
      "2024-07-30 16:51:15,384 - o11y._internal.client - INFO - Response status code: 200\n",
      "2024-07-30 16:51:15,384 - o11y._internal.client - INFO - Response content: {\"status\":\"success\",\"data\":{\"process_uuid\":\"d45ba117-53a5-42b9-86e4-ae66bc8ae85d\",\"tenant_id\":\"0\",\"status\":\"running\",\"start_time\":\"2024-07-30T16:51:15.372190886Z\",\"end_time\":{\"Time\":\"0001-01-01T00:00:00Z\",\"Valid\":false},\"group_uuid\":null,\"project\":\"my-awesome-project\",\"metadata\":null}}\n",
      "2024-07-30 16:51:15,384 - o11y._internal.client - INFO - Received process UUID: d45ba117-53a5-42b9-86e4-ae66bc8ae85d\n",
      "2024-07-30 16:51:15,385 - o11y._internal.client - INFO - Process registered successfully. UUID: d45ba117-53a5-42b9-86e4-ae66bc8ae85d\n",
      "2024-07-30 16:51:15,823 - o11y._internal.client - INFO - Registering process with data: {'user_metadata': {'config': {'learning_rate': 0.01, 'epochs': 100, 'feed_forward': {'activation': 'swiglu', 'd_model': 1024}}, 'git_commit': 'some_hash_goes_here'}, 'project': 'my-awesome-project'}\n",
      "2024-07-30 16:51:15,824 - o11y._internal.client - INFO - Clearing existing process UUID: d45ba117-53a5-42b9-86e4-ae66bc8ae85d\n",
      "2024-07-30 16:51:15,824 - o11y._internal.client - INFO - Request headers: Authorization: Bearer 1337..:83bca...\n",
      "2024-07-30 16:51:15,824 - o11y._internal.client - INFO - Sending request to URL: http://ai-training-api:8000/api/v1/process/new\n",
      "2024-07-30 16:51:15,841 - o11y._internal.client - INFO - Response status code: 200\n",
      "2024-07-30 16:51:15,842 - o11y._internal.client - INFO - Response content: {\"status\":\"success\",\"data\":{\"process_uuid\":\"9448da27-ab00-4234-b15d-5f2b148db0fc\",\"tenant_id\":\"0\",\"status\":\"running\",\"start_time\":\"2024-07-30T16:51:15.826129115Z\",\"end_time\":{\"Time\":\"0001-01-01T00:00:00Z\",\"Valid\":false},\"group_uuid\":null,\"project\":\"my-awesome-project\",\"metadata\":null}}\n",
      "2024-07-30 16:51:15,842 - o11y._internal.client - INFO - Received process UUID: 9448da27-ab00-4234-b15d-5f2b148db0fc\n",
      "2024-07-30 16:51:15,842 - o11y._internal.client - INFO - Process registered successfully. UUID: 9448da27-ab00-4234-b15d-5f2b148db0fc\n"
     ]
    },
    {
     "name": "stdout",
     "output_type": "stream",
     "text": [
      "Finished run with metrics ('train', 'test')\n"
     ]
    },
    {
     "name": "stderr",
     "output_type": "stream",
     "text": [
      "2024-07-30 16:51:16,269 - o11y._internal.client - INFO - Registering process with data: {'user_metadata': {'config': {'learning_rate': 0.01, 'epochs': 100, 'feed_forward': {'activation': 'swiglu', 'd_model': 1024}}, 'git_commit': 'some_hash_goes_here'}, 'project': 'my-awesome-project'}\n",
      "2024-07-30 16:51:16,270 - o11y._internal.client - INFO - Clearing existing process UUID: 9448da27-ab00-4234-b15d-5f2b148db0fc\n",
      "2024-07-30 16:51:16,270 - o11y._internal.client - INFO - Request headers: Authorization: Bearer 1337..:83bca...\n",
      "2024-07-30 16:51:16,270 - o11y._internal.client - INFO - Sending request to URL: http://ai-training-api:8000/api/v1/process/new\n",
      "2024-07-30 16:51:16,287 - o11y._internal.client - INFO - Response status code: 200\n",
      "2024-07-30 16:51:16,288 - o11y._internal.client - INFO - Response content: {\"status\":\"success\",\"data\":{\"process_uuid\":\"6fbcf36e-7905-4155-b049-06d8478ec256\",\"tenant_id\":\"0\",\"status\":\"running\",\"start_time\":\"2024-07-30T16:51:16.272873617Z\",\"end_time\":{\"Time\":\"0001-01-01T00:00:00Z\",\"Valid\":false},\"group_uuid\":null,\"project\":\"my-awesome-project\",\"metadata\":null}}\n",
      "2024-07-30 16:51:16,288 - o11y._internal.client - INFO - Received process UUID: 6fbcf36e-7905-4155-b049-06d8478ec256\n",
      "2024-07-30 16:51:16,289 - o11y._internal.client - INFO - Process registered successfully. UUID: 6fbcf36e-7905-4155-b049-06d8478ec256\n"
     ]
    },
    {
     "name": "stdout",
     "output_type": "stream",
     "text": [
      "Finished run with metrics ('train', 'val')\n",
      "Finished run with metrics ('train', 'test', 'val')\n"
     ]
    }
   ],
   "source": [
    "run_with_model_metrics('test')  # For train and test metrics\n",
    "run_with_model_metrics('val')   # For train and val metrics\n",
    "run_with_model_metrics('test', 'val')  # For train, test, and val metrics"
   ]
  }
 ],
 "metadata": {
  "kernelspec": {
   "display_name": "Python 3 (ipykernel)",
   "language": "python",
   "name": "python3"
  },
  "language_info": {
   "codemirror_mode": {
    "name": "ipython",
    "version": 3
   },
   "file_extension": ".py",
   "mimetype": "text/x-python",
   "name": "python",
   "nbconvert_exporter": "python",
   "pygments_lexer": "ipython3",
   "version": "3.11.9"
  }
 },
 "nbformat": 4,
 "nbformat_minor": 5
}
